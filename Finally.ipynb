{
 "cells": [
  {
   "cell_type": "code",
   "execution_count": 28,
   "metadata": {},
   "outputs": [],
   "source": [
    "import mysql.connector\n",
    "import pandas as pd\n",
    "import string\n",
    "import random\n",
    "import csv\n",
    "from random import randint\n",
    "import time\n",
    "import contextlib\n",
    "import matplotlib.pyplot as plt\n",
    "\n",
    "from ipywidgets import widgets as w\n",
    "from IPython.display import display"
   ]
  },
  {
   "cell_type": "code",
   "execution_count": 29,
   "metadata": {},
   "outputs": [],
   "source": [
    "NFL_teams=('Arizona Cardinals', 'Atlanta Falcons', 'Baltimore Ravens', 'Buffalo Bills', 'Carolina Panthers', 'Chicago Bears',\n",
    "'Cincinnati Bengals', 'Cleveland Browns', 'Dallas Cowboys', 'Denver Broncos', 'Detroit Lions', 'Green Bay Packers',\n",
    "'Houston Texans','Indianapolis Colts', 'Jacksonville Jaguars', 'Kansas City Chiefs', 'Miami Dolphins', 'Minnesota Vikings',\n",
    "'New England Patriots', 'New Orleans Saints', 'New York Giants', 'New York Jets', 'Oakland Raiders', 'Philadelphia Eagles',\n",
    "'Pittsburgh Steelers', 'St. Louis Rams', 'San Diego Chargers', 'San Francisco 49ers', 'Seattle Seahawks','Tampa Bay Buccaneers',\n",
    "'Tennessee Titans','Washington Redskins')"
   ]
  },
  {
   "cell_type": "code",
   "execution_count": 30,
   "metadata": {},
   "outputs": [],
   "source": [
    "NFL_stadiums=('Arrowhead', 'AT&T', 'Bank of America', 'Broncos', 'CenturyLink Field', 'FedExField', 'FirstEnergy',\n",
    "             'Ford Field', 'Gillette', 'Hard Rock', 'Heinz Field', 'Lambeau Field')"
   ]
  },
  {
   "cell_type": "code",
   "execution_count": 31,
   "metadata": {},
   "outputs": [],
   "source": [
    "NFL_city=('Arizona', 'Atlanta', 'Baltimore', 'Buffalo Bills', 'Carolina', 'Chicago',\n",
    "'Cincinnati', 'Cleveland', 'Dallas', 'Denver', 'Detroit','Houston','Indianapolis',\n",
    "'Jacksonville', 'Kansas', 'Miami', 'Minnesota','New England Patriots', 'New Orleans Saints',\n",
    "'New York Giants', 'New York Jets', 'Oakland Raiders', 'Philadelphia Eagles',\n",
    "'Pittsburgh','San Diego', 'San Francisco', 'Seattle','Tampa Bay','Tennessee','Washington')"
   ]
  },
  {
   "cell_type": "code",
   "execution_count": 32,
   "metadata": {},
   "outputs": [],
   "source": [
    "def random_date():\n",
    "    year = randint(2000, 2019)\n",
    "    month = randint(1, 12)\n",
    "    if(month<10):\n",
    "        month='0'+str(month)\n",
    "    day = randint(1, 28)\n",
    "    if(day<10):\n",
    "        day='0'+str(day)\n",
    "    return str(year)+str(month)+str(day)"
   ]
  },
  {
   "cell_type": "code",
   "execution_count": 33,
   "metadata": {},
   "outputs": [],
   "source": [
    "def get_TeamIDs():\n",
    "    database_conector = mysql.connector.connect(user='root', password='usa220231609',\n",
    "                                 host='127.0.0.1', database='nfl',\n",
    "                                 auth_plugin='mysql_native_password')\n",
    "    pointer = database_conector.cursor()\n",
    "    pointer.execute(\"SELECT TeamID FROM teams\")\n",
    "    result = pointer.fetchall()\n",
    "    return [item[0] for item in result]"
   ]
  },
  {
   "cell_type": "code",
   "execution_count": 34,
   "metadata": {},
   "outputs": [],
   "source": [
    "def get_PlayerIDs():\n",
    "    db = mysql.connector.connect(user='root', password='usa220231609',\n",
    "                                 host='127.0.0.1', database='nfl',\n",
    "                                 auth_plugin='mysql_native_password')\n",
    "    cursor = db.cursor()\n",
    "    cursor.execute(\"SELECT PlayerID FROM Players\")\n",
    "    result = cursor.fetchall()\n",
    "    return [item[0] for item in result]"
   ]
  },
  {
   "cell_type": "code",
   "execution_count": 35,
   "metadata": {},
   "outputs": [],
   "source": [
    "def get_GameIDs():\n",
    "    db = mysql.connector.connect(user='root', password='usa220231609',\n",
    "                                 host='127.0.0.1', database='nfl',\n",
    "                                 auth_plugin='mysql_native_password')\n",
    "    cursor = db.cursor()\n",
    "    cursor.execute(\"SELECT GameID FROM Games\")\n",
    "    result = cursor.fetchall()\n",
    "    #return result\n",
    "    return [item[0] for item in result]"
   ]
  },
  {
   "cell_type": "markdown",
   "metadata": {},
   "source": [
    "# Generate Data Functions"
   ]
  },
  {
   "cell_type": "code",
   "execution_count": 36,
   "metadata": {},
   "outputs": [],
   "source": [
    "# Generate Data Functions\n",
    "Team_IDs = []\n",
    "Player_IDs = []\n",
    "Game_IDs = []\n",
    "Play_IDs = []\n",
    "def generate_teams_data(numberOfRows, output_filename='teams.csv'):\n",
    "    \"\"\"creates a csv file with numberOfRows number of rows for the teams table\n",
    "    teams Table:\n",
    "    TeamID     int,\n",
    "    Team_name    varchar(20) not null,\n",
    "    city         varchar(20) not null,\n",
    "    primary key (TeamID)\n",
    "    \"\"\"\n",
    "    global Team_IDs\n",
    "    Team_IDs = [] # Reset for each time we generate data\n",
    "    \n",
    "    ID_set=set() # storing the ID's since primary key should be unique.\n",
    "    list_of_rows=[]\n",
    "    with open(output_filename, mode='w', newline='') as player_file:\n",
    "        writer = csv.writer(player_file, delimiter=',')\n",
    "        \n",
    "        for _ in range(numberOfRows):\n",
    "            TeamID = randint(1, 1000000000)\n",
    "            while(TeamID in ID_set):\n",
    "                TeamID = randint(1, 1000000000)\n",
    "            ID_set.add(TeamID)\n",
    "            Team_IDs.append(TeamID)\n",
    "            Team_name = random.choice(NFL_teams)\n",
    "            city = random.choice(NFL_city)\n",
    "            \n",
    "            list_of_rows.append([TeamID, Team_name, city])\n",
    "        writer.writerows(list_of_rows)\n",
    "\n",
    "        \n",
    "\n",
    "def generate_players_data(numberOfRows, output_filename='players.csv'):\n",
    "    \"\"\"creates a csv file with numberOfRows number of rows for the player table\n",
    "    Player Table: \n",
    "    PlayerID     int,\n",
    "    TeamID     int,\n",
    "    FirstName:   varchar(20) not null,\n",
    "    LastName:    varchar(20) not null,\n",
    "    Position     varchar(2)  check (Position in ('QB','RB','WR')),\n",
    "    Touchdowns   int check   (Touchdowns > 0),\n",
    "    TotalYards  int check   (TotalYards > 0),\n",
    "    Salary       int check   (Salary > 0 ),\n",
    "    primary key (PlayerID)\n",
    "    foreign key (TeamID) references teams (TeamID)\n",
    "    \"\"\"\n",
    "    global Player_IDs\n",
    "    Players_IDs = [] # Reset for each time we generate data\n",
    "    \n",
    "    ID_set=set() # storing the ID's since primary key should be unique.\n",
    "    list_of_rows=[]        \n",
    "    with open(output_filename, mode='w', newline='') as player_file:\n",
    "        writer = csv.writer(player_file, delimiter=',')\n",
    "        \n",
    "        for _ in range(numberOfRows):\n",
    "            \n",
    "            # Create random PlayerID\n",
    "            PlayerID = randint(1, 1000000000)\n",
    "            \n",
    "            # Get random TeamID from Team_IDs list\n",
    "            TeamID = random.choice(Team_IDs)\n",
    "            \n",
    "            while(PlayerID in ID_set):\n",
    "                PlayerID = randint(1, 1000000000)\n",
    "                TeamID = random.choice(Team_IDs)\n",
    "            ID_set.add(PlayerID)\n",
    "            Player_IDs.append(PlayerID)\n",
    "        \n",
    "            FirstName = ''.join(random.choice('abcdefghijklmnopqrstuvwxyz') for _ in range(5, 10))\n",
    "            LastName = ''.join(random.choice('abcdefghijklmnopqrstuvwxyz') for _ in range(5, 10))\n",
    "            Position = random.choice(('QB','RB','WR'))\n",
    "            Touchdowns = randint(1,1000)\n",
    "            TotalYards = randint(1, 1000000)\n",
    "            Salary = randint(1000, 1000000)\n",
    "            \n",
    "            list_of_rows.append([PlayerID, TeamID, FirstName, LastName, Position, Touchdowns, TotalYards, Salary])\n",
    "        writer.writerows(list_of_rows)\n",
    "        \n",
    "def generate_games_data(numberOfRows, output_filename='games.csv'):\n",
    "    \"\"\"creates a csv file with numberOfRows number of rows for the game table\n",
    "    Game Table:\n",
    "    GameID         int,\n",
    "    Date           date,\n",
    "    Stadium        varchar(20),\n",
    "    Result         char check (Result in ('W','L','T')),\n",
    "    Attendance     int check (Attendance > 0),\n",
    "    TicketRevenue int check (TicketRevenue > 0),\n",
    "    primary key (GameID)\n",
    "    \"\"\"\n",
    "    global Game_IDs\n",
    "    Game_IDs = [] # Reset for each time we generate data\n",
    "    \n",
    "    ID_set=set()\n",
    "    list_of_rows=[]\n",
    "    with open(output_filename, mode='w', newline='') as game_file:\n",
    "        writer = csv.writer(game_file, delimiter=',')\n",
    "        \n",
    "        for _ in range(numberOfRows):\n",
    "            GameID = randint(1, 1000000)\n",
    "            while(GameID in ID_set):\n",
    "                GameID = randint(1, 1000000)\n",
    "            ID_set.add(GameID)\n",
    "            Game_IDs.append(GameID)\n",
    "            Date = random_date()\n",
    "            Stadium = random.choice(NFL_stadiums)\n",
    "            Result = random.choice(('W','L','T'))\n",
    "            Attendance = randint(1, 1000000)\n",
    "            TicketRevenue = randint(1, 1000000000)\n",
    "            \n",
    "            list_of_rows.append([GameID, Date, Stadium, Result, Attendance, TicketRevenue])\n",
    "        writer.writerows(list_of_rows)\n",
    "        \n",
    "def generate_play_data(numberOfRows, output_filename='play.csv'):\n",
    "    \"\"\"creates a csv file with numberOfRows number of rows for the play table\n",
    "    Play Table:\n",
    "    PlayerID       int,\n",
    "    GameID         int,\n",
    "    primary key (PlayerID, GameID),\n",
    "    foreign key (PlayerID) references Players(PlayerID),\n",
    "    foreign key (GameID) references Games(GameID),\n",
    "    \"\"\"\n",
    "    global Play_IDs\n",
    "    Play_IDs = [] # Reset for each time we generate data\n",
    "    \n",
    "    ID_set=set()\n",
    "    list_of_rows=[]\n",
    "    with open(output_filename, mode='w', newline='') as play_file:\n",
    "        writer = csv.writer(play_file, delimiter=',')\n",
    "\n",
    "        \n",
    "        for _ in range(numberOfRows):\n",
    "            PlayerID = random.choice(Player_IDs)\n",
    "            GameID = random.choice(Game_IDs)\n",
    "            while((PlayerID, GameID) in ID_set):\n",
    "                PlayerID = random.choice(Player_IDs)\n",
    "                GameID = random.choice(Game_IDs)\n",
    "            ID_set.add((PlayerID, GameID))\n",
    "            Play_IDs.append((PlayerID, GameID))\n",
    "            \n",
    "            list_of_rows.append([PlayerID, GameID])\n",
    "        writer.writerows(list_of_rows)"
   ]
  },
  {
   "cell_type": "markdown",
   "metadata": {},
   "source": [
    "# Generate Data\n",
    "\n",
    "## Size 10,000"
   ]
  },
  {
   "cell_type": "code",
   "execution_count": 10,
   "metadata": {},
   "outputs": [],
   "source": [
    "generate_teams_data(10000 ,'teams10000.csv')"
   ]
  },
  {
   "cell_type": "code",
   "execution_count": 11,
   "metadata": {},
   "outputs": [],
   "source": [
    "generate_players_data(10000,'players10000.csv')"
   ]
  },
  {
   "cell_type": "code",
   "execution_count": 12,
   "metadata": {},
   "outputs": [],
   "source": [
    "generate_games_data(10000, 'games10000.csv')"
   ]
  },
  {
   "cell_type": "code",
   "execution_count": 13,
   "metadata": {},
   "outputs": [],
   "source": [
    "generate_play_data(10000,'play10000.csv')"
   ]
  },
  {
   "cell_type": "markdown",
   "metadata": {},
   "source": [
    "## Size 100,000"
   ]
  },
  {
   "cell_type": "code",
   "execution_count": null,
   "metadata": {},
   "outputs": [],
   "source": [
    "generate_teams_data(100000,'teams100000.csv')"
   ]
  },
  {
   "cell_type": "code",
   "execution_count": null,
   "metadata": {},
   "outputs": [],
   "source": [
    "generate_players_data(100000,'players100000.csv')"
   ]
  },
  {
   "cell_type": "code",
   "execution_count": null,
   "metadata": {},
   "outputs": [],
   "source": [
    "generate_games_data(100000, 'games100000.csv')"
   ]
  },
  {
   "cell_type": "code",
   "execution_count": null,
   "metadata": {},
   "outputs": [],
   "source": [
    "generate_play_data(100000,'play100000.csv')"
   ]
  },
  {
   "cell_type": "markdown",
   "metadata": {},
   "source": [
    "## Size 1,000,000"
   ]
  },
  {
   "cell_type": "code",
   "execution_count": null,
   "metadata": {},
   "outputs": [],
   "source": [
    "generate_teams_data(1000000,'teams1000000.csv')"
   ]
  },
  {
   "cell_type": "code",
   "execution_count": null,
   "metadata": {},
   "outputs": [],
   "source": [
    "generate_players_data(1000000,'players1000000.csv')"
   ]
  },
  {
   "cell_type": "code",
   "execution_count": null,
   "metadata": {},
   "outputs": [],
   "source": [
    "generate_games_data(1000000, 'games1000000.csv')"
   ]
  },
  {
   "cell_type": "code",
   "execution_count": null,
   "metadata": {},
   "outputs": [],
   "source": [
    "generate_play_data(1000000,'play1000000.csv')"
   ]
  },
  {
   "cell_type": "markdown",
   "metadata": {},
   "source": [
    "# Connect to SQL"
   ]
  },
  {
   "cell_type": "code",
   "execution_count": 37,
   "metadata": {},
   "outputs": [],
   "source": [
    "database_connector = mysql.connector.connect(user='root', password='usa220231609',\n",
    "                                host='127.0.0.1', database='nfl',\n",
    "                                auth_plugin='mysql_native_password', allow_local_infile=True)\n",
    "pointer = database_connector.cursor()"
   ]
  },
  {
   "cell_type": "markdown",
   "metadata": {},
   "source": [
    "# Helper Delete Table Functions"
   ]
  },
  {
   "cell_type": "code",
   "execution_count": 38,
   "metadata": {},
   "outputs": [],
   "source": [
    "# Delete Tables\n",
    "def delete_players():\n",
    "    sql = \"DELETE FROM players\"\n",
    "    pointer.execute(sql)\n",
    "    database_connector.commit()\n",
    "    print(\"Delete complete\")\n",
    "    \n",
    "def delete_teams():\n",
    "    sql = \"DELETE FROM teams\"\n",
    "    pointer.execute(sql)\n",
    "    database_connector.commit()\n",
    "    print(\"Delete complete\")\n",
    "    \n",
    "def delete_games():\n",
    "    sql = \"DELETE FROM Games\"\n",
    "    pointer.execute(sql)\n",
    "    database_connector.commit()\n",
    "    print(\"Delete complete\")\n",
    "    \n",
    "def delete_play():\n",
    "    sql = \"DELETE FROM Play\"\n",
    "    pointer.execute(sql)\n",
    "    database_connector.commit()\n",
    "    print(\"Delete complete\")"
   ]
  },
  {
   "cell_type": "markdown",
   "metadata": {},
   "source": [
    "# Helper Insert into table functions"
   ]
  },
  {
   "cell_type": "code",
   "execution_count": 66,
   "metadata": {},
   "outputs": [],
   "source": [
    "# Insert into Tables\n",
    "def insert_teams(file_name='teams.csv'):\n",
    "    vals=[]\n",
    "    with open(file_name) as input_file:\n",
    "        print(\"Inserting: \", file_name)\n",
    "        reader = csv.reader(input_file, delimiter=',')\n",
    "        for row in reader:\n",
    "            vals.append(tuple(row))\n",
    "\n",
    "        start = time.time()\n",
    "        for row in vals:\n",
    "            sql = \"INSERT INTO teams (TeamID, TeamName, city) VALUES (%s, %s, %s)\"\n",
    "            try:\n",
    "                pointer.execute(sql, row)\n",
    "            except mysql.connector.Error as e:\n",
    "                return e.msg\n",
    "        database_connector.commit()\n",
    "        end = time.time()\n",
    "        print(end - start, 'seconds')\n",
    "        s=str(end - start) + 'seconds'\n",
    "        return s\n",
    "    \n",
    "def insert_players(file_name='players.csv'):\n",
    "    vals=[]\n",
    "    with open(file_name) as input_file:\n",
    "        print(\"Inserting: \", file_name)\n",
    "        reader = csv.reader(input_file, delimiter=',')\n",
    "        for row in reader:\n",
    "            vals.append(tuple(row))\n",
    "\n",
    "        start = time.time()\n",
    "        for row in vals:\n",
    "            sql = \"INSERT INTO players (PlayerID, TeamID, FirstName, LastName, Position, Touchdowns, TotalYards, Salary) VALUES (%s, %s, %s, %s, %s, %s, %s, %s)\"\n",
    "            try:\n",
    "                pointer.execute(sql, row)\n",
    "            except mysql.connector.Error as e:\n",
    "                return e.msg\n",
    "        database_connector.commit()\n",
    "        end = time.time()\n",
    "        print(end - start, 'seconds')\n",
    "        s=str(end - start) + 'seconds'\n",
    "        return s\n",
    "    \n",
    "def insert_games(file_name='games.csv'):\n",
    "    vals=[]\n",
    "    with open(file_name) as input_file:\n",
    "        print(\"Inserting: \", file_name)\n",
    "        reader = csv.reader(input_file, delimiter=',')\n",
    "        for row in reader:\n",
    "            vals.append(tuple(row))\n",
    "\n",
    "        start = time.time()\n",
    "        for row in vals:\n",
    "            sql = \"INSERT INTO Games (GameID, Date, Stadium, Result, Attendance, TicketRevenue) VALUES (%s, %s, %s, %s, %s, %s)\"\n",
    "            try:\n",
    "                pointer.execute(sql, row)\n",
    "            except mysql.connector.Error as e:\n",
    "                print(e.msg)\n",
    "                return e.msg\n",
    "        database_connector.commit()\n",
    "        end = time.time()\n",
    "        print(end - start, 'seconds')\n",
    "        s=str(end - start) + 'seconds'\n",
    "        return s\n",
    "\n",
    "def insert_play(file_name='plays.csv'):\n",
    "    vals=[]\n",
    "    with open(file_name) as input_file:\n",
    "        print(\"Inserting: \", file_name)\n",
    "        reader = csv.reader(input_file, delimiter=',')\n",
    "        for row in reader:\n",
    "            vals.append(tuple(row))\n",
    "\n",
    "        start = time.time()\n",
    "        for row in vals:\n",
    "            sql = \"INSERT INTO Play (PlayerID, GameID) VALUES (%s, %s)\"\n",
    "            try:\n",
    "                pointer.execute(sql, row)\n",
    "            except mysql.connector.Error as e:\n",
    "                print(e.msg)\n",
    "                return e.msg\n",
    "        database_connector.commit()\n",
    "        end = time.time()\n",
    "        print(end - start, 'seconds')\n",
    "        s=str(end - start) + 'seconds'\n",
    "        return s"
   ]
  },
  {
   "cell_type": "markdown",
   "metadata": {},
   "source": [
    "# Retrieve table functions"
   ]
  },
  {
   "cell_type": "code",
   "execution_count": 85,
   "metadata": {},
   "outputs": [],
   "source": [
    "def retrieve_teams():\n",
    "    sql = \"SELECT * FROM TEAMS\"\n",
    "    pointer.execute(sql)\n",
    "    \n",
    "    out_retrieve.clear_output()\n",
    "    with out_retrieve:\n",
    "        print(\"Team ID, Team Name, City\")\n",
    "        for a in pointer:\n",
    "            print(a)\n",
    "\n",
    "def retrieve_players():\n",
    "    sql = \"SELECT * FROM PLAYERS\"\n",
    "    pointer.execute(sql)\n",
    "    \n",
    "    out_retrieve.clear_output()\n",
    "    with out_retrieve:\n",
    "        print(\"Player ID, Team ID, First Name, Last Name, Position, Touchdowns, Total Yards, Salary\")\n",
    "        for a in pointer:\n",
    "            print(a)\n",
    "\n",
    "\n",
    "def retrieve_games():\n",
    "    sql = \"SELECT * FROM GAMES\"\n",
    "    pointer.execute(sql)\n",
    "    \n",
    "    out_retrieve.clear_output()\n",
    "    with out_retrieve:\n",
    "        print(\"Game ID, Date, Stadium, Result, Attendance, Ticket Revenue\")\n",
    "        for a in pointer:\n",
    "            print(a)\n",
    "\n",
    "def retrieve_play():\n",
    "    sql = \"SELECT * FROM PLAY\"\n",
    "    pointer.execute(sql)\n",
    "    \n",
    "    out_retrieve.clear_output()\n",
    "    with out_retrieve:\n",
    "        print(\"Player ID, Game ID\")\n",
    "        for a in pointer:\n",
    "            print(a)"
   ]
  },
  {
   "cell_type": "markdown",
   "metadata": {},
   "source": [
    "# Retrieve Average Function"
   ]
  },
  {
   "cell_type": "code",
   "execution_count": 95,
   "metadata": {},
   "outputs": [],
   "source": [
    "def retrieve_average(table, column):\n",
    "    sql = \"SELECT AVG(\" + column + \") FROM \" + table\n",
    "    pointer.execute(sql)\n",
    "    out_average.clear_output()\n",
    "    with out_average:\n",
    "        print(\"Average of \", table, \" and \", column, \": \")\n",
    "        for a in pointer:\n",
    "            print(a)"
   ]
  },
  {
   "cell_type": "markdown",
   "metadata": {},
   "source": [
    "# Create Widgets\n",
    "## Output"
   ]
  },
  {
   "cell_type": "code",
   "execution_count": 87,
   "metadata": {},
   "outputs": [],
   "source": [
    "out_insert = w.Output(layout={'border': '1px solid black'})\n",
    "out_delete = w.Output(layout={'border': '1px solid black'})\n",
    "out_retrieve = w.Output(layout={'border': '1px solid black'})\n",
    "out_average = w.Output(layout={'border': '1px solid black'})"
   ]
  },
  {
   "cell_type": "markdown",
   "metadata": {},
   "source": [
    "## Table and File"
   ]
  },
  {
   "cell_type": "code",
   "execution_count": 88,
   "metadata": {},
   "outputs": [],
   "source": [
    "# Tables (remove, retrieve, average)\n",
    "table = w.Text(description=\"Table: \")\n",
    "table_type = w.RadioButtons(\n",
    "    options=['teams','players', 'games', 'play']\n",
    ")\n",
    "\n",
    "# File Upload\n",
    "file_upload = w.FileUpload(\n",
    "    accept='.csv',  # Accepted file extension e.g. '.txt', '.pdf', 'image/*', 'image/*,.pdf'\n",
    "    multiple=False  # True to accept multiple files upload else False\n",
    ")\n"
   ]
  },
  {
   "cell_type": "markdown",
   "metadata": {},
   "source": [
    "## Insert"
   ]
  },
  {
   "cell_type": "code",
   "execution_count": 89,
   "metadata": {},
   "outputs": [],
   "source": [
    "# Single insert\n",
    "single_insert = w.Button(description=\"Single Insert\")\n",
    "\n",
    "def _on_single_insert_clicked(single_insert):\n",
    "    out_insert.clear_output()\n",
    "    with out_insert:\n",
    "        if table_type.value == 'teams':\n",
    "            insert_teams(file_name=next(iter(file_upload.value)))    \n",
    "        elif table_type.value == 'players':\n",
    "            insert_players(file_name=next(iter(file_upload.value)))\n",
    "        elif table_type.value == 'games':\n",
    "            insert_games(file_name=next(iter(file_upload.value)))\n",
    "        elif table_type.value == 'play':\n",
    "            insert_play(file_name=next(iter(file_upload.value)))\n",
    "single_insert.on_click(_on_single_insert_clicked)\n",
    "\n",
    "\n",
    "# Multiple row insert\n",
    "multiple_row_insert = w.Button(description=\"Multiple Row Insert\")\n",
    "\n",
    "def _on_multiple_row_insert_clicked(multiple_row_insert):\n",
    "    \n",
    "    # clear output widget\n",
    "    out_insert.clear_output()\n",
    "    \n",
    "    with out_insert:\n",
    "        print(\"multiple row insert clicked\")\n",
    "        \n",
    "        # get name of file\n",
    "        file_name = next(iter(file_upload.value))\n",
    "        \n",
    "        # read file into pandas dataframe\n",
    "        df = pd.read_csv(file_name, sep=',', header=None)\n",
    "        # clean data\n",
    "        cols = str(df.columns.values.tolist()).replace('[','').replace(']', '')\n",
    "        values = list(map(tuple, df.values))\n",
    "        half = len(values) // 2\n",
    "        valuesA = values[:half] # get first half\n",
    "        valuesB = values[half:] # get second half\n",
    "\n",
    "        # create sql statement\n",
    "        if table_type.value == 'teams':\n",
    "            sql = \"insert into teams ( TeamID, TeamName, City ) values  (%s, %s, %s )\" \n",
    "        elif table_type.value == 'players':\n",
    "            sql = \"INSERT INTO players (PlayerID, TeamID, FirstName, LastName, Position, Touchdowns, TotalYards, Salary) VALUES (%s, %s, %s, %s, %s, %s, %s, %s)\"\n",
    "        elif table_type.value == 'games':\n",
    "            sql = \"INSERT INTO games (GameID, Date, Stadium, Result, Attendance, TicketRevenue) VALUES (%s, %s, %s, %s, %s, %s)\"\n",
    "        elif table_type.value == 'play':\n",
    "            sql = \"INSERT INTO Play (PlayerID, GameID) VALUES (%s, %s)\"\n",
    "        \n",
    "        # start time\n",
    "        start = time.time()\n",
    "\n",
    "        # execute sql query in 2 halves\n",
    "        try:\n",
    "            pointer.executemany(sql, valuesA)\n",
    "        except mysql.connector.Error as e:\n",
    "            print(e.msg)\n",
    "            return e.msg\n",
    "        database_connector.commit()\n",
    "        try:\n",
    "            pointer.executemany(sql, valuesB)\n",
    "        except mysql.connector.Error as e:\n",
    "            return e.msg\n",
    "        database_connector.commit()\n",
    "        \n",
    "        # end time\n",
    "        end = time.time()\n",
    "        \n",
    "        # print time\n",
    "        print(end - start, 'seconds for multi row play')\n",
    "        s=str(end - start) + 'seconds'\n",
    "        return s\n",
    "multiple_row_insert.on_click(_on_multiple_row_insert_clicked)\n",
    "\n",
    "\n",
    "# Load data syntax\n",
    "load_data_syntax = w.Button(description=\"Load Data Syntax\")\n",
    "\n",
    "def _on_load_data_syntax_clicked(load_data_syntax): # ONLY FOR TEAMS\n",
    "    \n",
    "    # clear output widget\n",
    "    out_insert.clear_output()\n",
    "    \n",
    "    # with output widget\n",
    "    with out_insert:\n",
    "        \n",
    "        # get name of file\n",
    "        file_name = next(iter(file_upload.value))\n",
    "        \n",
    "        # start time\n",
    "        start = time.time()\n",
    "        \n",
    "        # create sql statement\n",
    "        if table_type.value == 'teams':\n",
    "            sql = \"LOAD DATA LOCAL INFILE \\'%s\\' INTO TABLE teams FIELDS TERMINATED BY ',' ENCLOSED BY '\\\"' LINES TERMINATED BY '\\\\r\\\\n' (TeamID, TeamName, city)\" % (file_name)\n",
    "\n",
    "        elif table_type.value == 'players':\n",
    "            sql = \"LOAD DATA LOCAL INFILE \\'%s\\' INTO TABLE players FIELDS TERMINATED BY ',' ENCLOSED BY '\\\"' LINES TERMINATED BY '\\\\r\\\\n' (PlayerID, TeamID, FirstName, LastName, Position, Touchdowns, TotalYards, Salary)\" % (file_name)\n",
    "\n",
    "        elif table_type.value == 'games':\n",
    "            sql = \"LOAD DATA LOCAL INFILE \\'%s\\' INTO TABLE games FIELDS TERMINATED BY ',' ENCLOSED BY '\\\"' LINES TERMINATED BY '\\\\r\\\\n' (GameID, Date, Stadium, Result, Attendance, TicketRevenue)\" % (file_name)\n",
    "\n",
    "        elif table_type.value == 'play':\n",
    "            sql = \"LOAD DATA LOCAL INFILE \\'%s\\' INTO TABLE play FIELDS TERMINATED BY ',' ENCLOSED BY '\\\"' LINES TERMINATED BY '\\\\r\\\\n' (PlayerID, GameID)\" % (file_name)\n",
    "\n",
    "\n",
    "        # execute query\n",
    "        try:\n",
    "            pointer.execute(sql)\n",
    "        except mysql.connector.Error as e:\n",
    "            print(e.msg)\n",
    "            return e.msg\n",
    "        \n",
    "        # commit to database\n",
    "        database_connector.commit()\n",
    "        \n",
    "        # end timer\n",
    "        end = time.time()\n",
    "        \n",
    "        # print time in output widget\n",
    "        print(end - start, 'seconds')\n",
    "        s=str(end - start) + 'seconds'\n",
    "        return s\n",
    "load_data_syntax.on_click(_on_load_data_syntax_clicked)"
   ]
  },
  {
   "cell_type": "markdown",
   "metadata": {},
   "source": [
    "## Remove"
   ]
  },
  {
   "cell_type": "code",
   "execution_count": 121,
   "metadata": {},
   "outputs": [],
   "source": [
    "# Remove a table\n",
    "remove_table = w.Button(description=\"Remove Table\", button_style='danger')\n",
    "\n",
    "def _on_remove_table_clicked(remove_table):\n",
    "    out_delete.clear_output()\n",
    "    with out_delete:\n",
    "        if table_type.value == 'teams':\n",
    "            print(\"Teams deleting..\")\n",
    "            delete_teams()    \n",
    "        elif table_type.value == 'players':\n",
    "            print(\"Players deleting..\")\n",
    "            delete_players()\n",
    "        elif table_type.value == 'games':\n",
    "            print(\"Games deleting..\")\n",
    "            delete_games()\n",
    "        elif table_type.value == 'play':\n",
    "            print(\"Play deleting..\")\n",
    "            delete_play()\n",
    "remove_table.on_click(_on_remove_table_clicked)\n",
    "\n",
    "\n",
    "\n",
    "# Remove ALL tables\n",
    "remove_all_tables = w.Button(description=\"Remove ALL Tables\", button_style='danger')\n",
    "\n",
    "def _on_remove_all_tables_clicked(remove_all_tables):\n",
    "    out_delete.clear_output()\n",
    "    with out_delete:\n",
    "        print(\"Play deleting..\")\n",
    "        delete_play()\n",
    "        print(\"Games deleting..\")\n",
    "        delete_games()\n",
    "        print(\"Players deleting..\")\n",
    "        delete_players()\n",
    "        print(\"Teams deleting..\")\n",
    "        delete_teams()\n",
    "remove_all_tables.on_click(_on_remove_all_tables_clicked)\n"
   ]
  },
  {
   "cell_type": "markdown",
   "metadata": {},
   "source": [
    "## Retrieve"
   ]
  },
  {
   "cell_type": "code",
   "execution_count": 124,
   "metadata": {},
   "outputs": [],
   "source": [
    "# Retrieve a table\n",
    "retrieve_table = w.Button(description=\"Retrieve Table\")\n",
    "\n",
    "def _on_retrieve_table_clicked(retrieve_table):\n",
    "    out_retrieve.clear_output()\n",
    "    with out_retrieve:\n",
    "        if table_type.value == 'teams':\n",
    "            print(\"Retrieving teams table..\")\n",
    "            retrieve_teams()    \n",
    "        elif table_type.value == 'players':\n",
    "            print(\"Retrieving players table..\")\n",
    "            retrieve_players()\n",
    "        elif table_type.value == 'games':\n",
    "            print(\"Retrieving games table..\")\n",
    "            retrieve_games()\n",
    "        elif table_type.value == 'play':\n",
    "            print(\"Retrieving play table..\")\n",
    "            retrieve_play()\n",
    "retrieve_table.on_click(_on_retrieve_table_clicked)"
   ]
  },
  {
   "cell_type": "markdown",
   "metadata": {},
   "source": [
    "## Average"
   ]
  },
  {
   "cell_type": "code",
   "execution_count": 125,
   "metadata": {},
   "outputs": [],
   "source": [
    "# Get Average\n",
    "\n",
    "column = w.Text(description =\"Column: \")\n",
    "average_table_column = w.Button(description=\"Find Average\")\n",
    "\n",
    "def _on_average_table_column_clicked(average_table_column):\n",
    "    out_average.clear_output()\n",
    "    with out_average:\n",
    "        retrieve_average(table_type.value, column.value)\n",
    "        \n",
    "average_table_column.on_click(_on_average_table_column_clicked)"
   ]
  },
  {
   "cell_type": "markdown",
   "metadata": {},
   "source": [
    "# Create User Interface"
   ]
  },
  {
   "cell_type": "code",
   "execution_count": 129,
   "metadata": {
    "scrolled": false
   },
   "outputs": [],
   "source": [
    "upload = w.VBox([\n",
    "    w.Label(value=\"Select a text file:\"),\n",
    "    file_upload,\n",
    "    w.Label(value=\"Select table type: \"),\n",
    "    table_type,\n",
    "    w.Label(value=\"Use one of the following methods to upload data:\"),\n",
    "    single_insert,\n",
    "    multiple_row_insert,\n",
    "    load_data_syntax,\n",
    "    out_insert,\n",
    "])\n",
    "\n",
    "left_delete = w.VBox([\n",
    "    w.Label(value=\"Select table type: \"),\n",
    "    table_type, \n",
    "    remove_table,\n",
    "    out_delete,\n",
    "])\n",
    "right_delete = w.VBox([\n",
    "    w.Label(value=\"Want to delete all tables? \"),\n",
    "    remove_all_tables,\n",
    "])\n",
    "\n",
    "delete = w.HBox([\n",
    "    left_delete,\n",
    "    right_delete,\n",
    "])\n",
    "\n",
    "\n",
    "retrieve = w.VBox([\n",
    "    w.Label(value=\"Select table type: \"),\n",
    "    table_type, \n",
    "    retrieve_table,   \n",
    "    out_retrieve,\n",
    "])\n",
    "\n",
    "average = w.VBox([\n",
    "    w.Label(value=\"Select table type: \"),\n",
    "    table_type, \n",
    "    column,\n",
    "    average_table_column,\n",
    "    out_average,\n",
    "])\n",
    "\n",
    "user_interface = w.Accordion(children=[upload, delete, retrieve, average])\n",
    "user_interface.set_title(0, 'upload')\n",
    "user_interface.set_title(1, 'delete')\n",
    "user_interface.set_title(2, 'retrieve')\n",
    "user_interface.set_title(3, 'average')\n"
   ]
  },
  {
   "cell_type": "markdown",
   "metadata": {},
   "source": [
    "# User Interface"
   ]
  },
  {
   "cell_type": "code",
   "execution_count": 131,
   "metadata": {},
   "outputs": [
    {
     "data": {
      "application/vnd.jupyter.widget-view+json": {
       "model_id": "d4bd2ca4774749008fae53f3c0f6f21b",
       "version_major": 2,
       "version_minor": 0
      },
      "text/plain": [
       "Accordion(children=(VBox(children=(Label(value='Select a text file:'), FileUpload(value={'teams10000.csv': {'m…"
      ]
     },
     "metadata": {},
     "output_type": "display_data"
    }
   ],
   "source": [
    "display(user_interface)\n",
    "out_insert.clear_output()\n",
    "out_delete.clear_output()\n",
    "out_retrieve.clear_output()\n",
    "out_average.clear_output()"
   ]
  },
  {
   "cell_type": "code",
   "execution_count": null,
   "metadata": {},
   "outputs": [],
   "source": []
  }
 ],
 "metadata": {
  "kernelspec": {
   "display_name": "Python 3",
   "language": "python",
   "name": "python3"
  },
  "language_info": {
   "codemirror_mode": {
    "name": "ipython",
    "version": 3
   },
   "file_extension": ".py",
   "mimetype": "text/x-python",
   "name": "python",
   "nbconvert_exporter": "python",
   "pygments_lexer": "ipython3",
   "version": "3.7.4"
  }
 },
 "nbformat": 4,
 "nbformat_minor": 2
}
